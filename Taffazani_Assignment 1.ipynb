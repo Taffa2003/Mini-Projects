{
 "cells": [
  {
   "cell_type": "markdown",
   "id": "e102348c",
   "metadata": {},
   "source": [
    "# Question 1"
   ]
  },
  {
   "cell_type": "code",
   "execution_count": 20,
   "id": "74ffc085",
   "metadata": {},
   "outputs": [
    {
     "name": "stdout",
     "output_type": "stream",
     "text": [
      "Welcome Senator Eligibility Calculator\n",
      "Enter age: 29\n",
      "Enter the person's years of US citizenship: 8\n",
      "The person is not eligible to be a US Senator.\n"
     ]
    }
   ],
   "source": [
    "print('Welcome Senator Eligibility Calculator')\n",
    "\n",
    "age = int(input(\"Enter age: \"))\n",
    "years_of_citizenship = int(input(\"Enter the person's years of US citizenship: \"))\n",
    "\n",
    "y_o_c = years_of_citizenship\n",
    "\n",
    "if age >= 30 and y_o_c >= 9:\n",
    "    print(\"The person is eligible to be a US Senator.\")\n",
    "else:\n",
    "    print(\"The person is not eligible to be a US Senator.\")"
   ]
  },
  {
   "cell_type": "markdown",
   "id": "97d42d46",
   "metadata": {},
   "source": [
    "# Question 2"
   ]
  },
  {
   "cell_type": "code",
   "execution_count": 23,
   "id": "ac50d9f9",
   "metadata": {},
   "outputs": [
    {
     "name": "stdout",
     "output_type": "stream",
     "text": [
      "Enter the number of items you are buying: 5\n",
      "Total Item Bought is 5\n",
      "Total cost: RM 50\n"
     ]
    }
   ],
   "source": [
    "num_items = int(input(\"Enter the number of items you are buying: \"))\n",
    "\n",
    "n_i = num_items\n",
    "\n",
    "if n_i < 10:\n",
    "    total_cost = n_i * 10\n",
    "elif n_i <= 50:\n",
    "    total_cost = n_i * 8\n",
    "else:\n",
    "    total_cost = n_i * 5\n",
    "\n",
    "print(\"Total Item Bought is {}\".format(n_i))\n",
    "print(\"Total cost: RM {}\".format(total_cost))"
   ]
  },
  {
   "cell_type": "markdown",
   "id": "58310b81",
   "metadata": {},
   "source": [
    "# Question 3"
   ]
  },
  {
   "cell_type": "code",
   "execution_count": null,
   "id": "2b24e7c7",
   "metadata": {},
   "outputs": [
    {
     "name": "stdout",
     "output_type": "stream",
     "text": [
      "Enter your weight in kilograms (kg): 4\n",
      "Invalid entry. Please enter a weight greater than or equal to 5.\n"
     ]
    }
   ],
   "source": [
    "while True:\n",
    "    weight_kg = float(input(\"Enter your weight in kilograms (kg): \"))\n",
    "    \n",
    "    w_g = weight_kg\n",
    "\n",
    "    if w_g < 5:\n",
    "        print(\"Invalid entry. Please enter a weight greater than or equal to 5.\")\n",
    "    else:\n",
    "        break\n",
    "\n",
    "weight_lb = w_g * 2.20462\n",
    "print(\"Weight in pounds: {} \".format(weight_lb))"
   ]
  },
  {
   "cell_type": "markdown",
   "id": "9eb5f9ce",
   "metadata": {},
   "source": [
    "# Question 4"
   ]
  },
  {
   "cell_type": "code",
   "execution_count": 16,
   "id": "91a7c055",
   "metadata": {},
   "outputs": [
    {
     "data": {
      "text/html": [
       "<div>\n",
       "<style scoped>\n",
       "    .dataframe tbody tr th:only-of-type {\n",
       "        vertical-align: middle;\n",
       "    }\n",
       "\n",
       "    .dataframe tbody tr th {\n",
       "        vertical-align: top;\n",
       "    }\n",
       "\n",
       "    .dataframe thead th {\n",
       "        text-align: right;\n",
       "    }\n",
       "</style>\n",
       "<table border=\"1\" class=\"dataframe\">\n",
       "  <thead>\n",
       "    <tr style=\"text-align: right;\">\n",
       "      <th></th>\n",
       "      <th>List A</th>\n",
       "      <th>List B</th>\n",
       "      <th>List C</th>\n",
       "    </tr>\n",
       "  </thead>\n",
       "  <tbody>\n",
       "    <tr>\n",
       "      <th>0</th>\n",
       "      <td>10</td>\n",
       "      <td>100</td>\n",
       "      <td>1087</td>\n",
       "    </tr>\n",
       "    <tr>\n",
       "      <th>1</th>\n",
       "      <td>20</td>\n",
       "      <td>150</td>\n",
       "      <td>2180</td>\n",
       "    </tr>\n",
       "    <tr>\n",
       "      <th>2</th>\n",
       "      <td>30</td>\n",
       "      <td>200</td>\n",
       "      <td>3019</td>\n",
       "    </tr>\n",
       "    <tr>\n",
       "      <th>3</th>\n",
       "      <td>40</td>\n",
       "      <td>500</td>\n",
       "      <td>1198</td>\n",
       "    </tr>\n",
       "    <tr>\n",
       "      <th>4</th>\n",
       "      <td>50</td>\n",
       "      <td>700</td>\n",
       "      <td>2708</td>\n",
       "    </tr>\n",
       "  </tbody>\n",
       "</table>\n",
       "</div>"
      ],
      "text/plain": [
       "   List A  List B  List C\n",
       "0      10     100    1087\n",
       "1      20     150    2180\n",
       "2      30     200    3019\n",
       "3      40     500    1198\n",
       "4      50     700    2708"
      ]
     },
     "execution_count": 16,
     "metadata": {},
     "output_type": "execute_result"
    }
   ],
   "source": [
    "import pandas as pd\n",
    "\n",
    "List_1 = [10,20,30,40,50]\n",
    "List_2 = [100,150,200,500,700]\n",
    "List_3 = [1087,2180,3019,1198,2708]\n",
    "\n",
    "df = pd.DataFrame({'List A':List_1,'List B':List_2,'List C':List_3})\n",
    "\n",
    "df"
   ]
  },
  {
   "cell_type": "markdown",
   "id": "db338e76",
   "metadata": {},
   "source": [
    "# Question 5"
   ]
  },
  {
   "cell_type": "code",
   "execution_count": 18,
   "id": "5d6965a4",
   "metadata": {},
   "outputs": [
    {
     "data": {
      "image/png": "[encoded data removed]",
      "text/plain": [
       "<Figure size 640x480 with 1 Axes>"
      ]
     },
     "metadata": {},
     "output_type": "display_data"
    }
   ],
   "source": [
    "import numpy as np\n",
    "import pandas as pd\n",
    "import matplotlib.pyplot as plt\n",
    "\n",
    "List_1 = [10,20,30,40,50]\n",
    "List_2 = [100,150,200,500,700]\n",
    "List_3 = [1087,2180,3019,1198,2708]\n",
    "\n",
    "df = pd.DataFrame({'List A':List_1,'List B':List_2,'List C':List_3})\n",
    "\n",
    "#scatter plot\n",
    "plt.scatter(df['List A'], df['List B'])\n",
    "\n",
    "plt.title(\"List B versus List A\")\n",
    "plt.xlabel(\"List A\")\n",
    "plt.ylabel(\"List B\")\n",
    "\n",
    "#line chart\n",
    "plt.plot(df['List A'], df['List B'], color='green', linestyle='-.', label='Line')\n",
    "\n",
    "plt.show()"
   ]
  },
  {
   "cell_type": "code",
   "execution_count": null,
   "id": "7a95fe24",
   "metadata": {},
   "outputs": [],
   "source": []
  },
  {
   "cell_type": "code",
   "execution_count": null,
   "id": "5c5e37dc",
   "metadata": {},
   "outputs": [],
   "source": []
  }
 ],
 "metadata": {
  "kernelspec": {
   "display_name": "Python 3 (ipykernel)",
   "language": "python",
   "name": "python3"
  },
  "language_info": {
   "codemirror_mode": {
    "name": "ipython",
    "version": 3
   },
   "file_extension": ".py",
   "mimetype": "text/x-python",
   "name": "python",
   "nbconvert_exporter": "python",
   "pygments_lexer": "ipython3",
   "version": "3.10.9"
  }
 },
 "nbformat": 4,
 "nbformat_minor": 5
}
