{
 "cells": [
  {
   "cell_type": "code",
   "execution_count": 4,
   "id": "4d417d00",
   "metadata": {},
   "outputs": [],
   "source": [
    "##Part 2 Data Structure"
   ]
  },
  {
   "cell_type": "code",
   "execution_count": 19,
   "id": "c5134093",
   "metadata": {},
   "outputs": [],
   "source": [
    "#Structure List"
   ]
  },
  {
   "cell_type": "code",
   "execution_count": 6,
   "id": "2a21d20f",
   "metadata": {},
   "outputs": [],
   "source": [
    "x = [100,200,300,400,500]"
   ]
  },
  {
   "cell_type": "code",
   "execution_count": 7,
   "id": "e427709a",
   "metadata": {},
   "outputs": [
    {
     "data": {
      "text/plain": [
       "[100, 200, 300, 400, 500]"
      ]
     },
     "execution_count": 7,
     "metadata": {},
     "output_type": "execute_result"
    }
   ],
   "source": [
    "x"
   ]
  },
  {
   "cell_type": "code",
   "execution_count": 9,
   "id": "8ba49d09",
   "metadata": {},
   "outputs": [
    {
     "data": {
      "text/plain": [
       "300"
      ]
     },
     "execution_count": 9,
     "metadata": {},
     "output_type": "execute_result"
    }
   ],
   "source": [
    "x[2]"
   ]
  },
  {
   "cell_type": "code",
   "execution_count": 10,
   "id": "06f4ab3b",
   "metadata": {},
   "outputs": [
    {
     "data": {
      "text/plain": [
       "300"
      ]
     },
     "execution_count": 10,
     "metadata": {},
     "output_type": "execute_result"
    }
   ],
   "source": [
    "x[-3]"
   ]
  },
  {
   "cell_type": "code",
   "execution_count": 11,
   "id": "b447f070",
   "metadata": {},
   "outputs": [
    {
     "data": {
      "text/plain": [
       "[200, 300]"
      ]
     },
     "execution_count": 11,
     "metadata": {},
     "output_type": "execute_result"
    }
   ],
   "source": [
    "x[1:3]"
   ]
  },
  {
   "cell_type": "code",
   "execution_count": 12,
   "id": "0064ae53",
   "metadata": {},
   "outputs": [
    {
     "data": {
      "text/plain": [
       "[200, 300, 400]"
      ]
     },
     "execution_count": 12,
     "metadata": {},
     "output_type": "execute_result"
    }
   ],
   "source": [
    "x[1:4]"
   ]
  },
  {
   "cell_type": "code",
   "execution_count": 13,
   "id": "907c6138",
   "metadata": {},
   "outputs": [
    {
     "data": {
      "text/plain": [
       "[200, 300, 400, 500]"
      ]
     },
     "execution_count": 13,
     "metadata": {},
     "output_type": "execute_result"
    }
   ],
   "source": [
    "x[1:6] #redundancy kalau pakai x[1:5] pon stil dapat benda sama"
   ]
  },
  {
   "cell_type": "code",
   "execution_count": 14,
   "id": "7f0e3f52",
   "metadata": {},
   "outputs": [
    {
     "data": {
      "text/plain": [
       "[100, 200, 300, 400]"
      ]
     },
     "execution_count": 14,
     "metadata": {},
     "output_type": "execute_result"
    }
   ],
   "source": [
    "x[:4] #bila no value dia ambil default value start from 0"
   ]
  },
  {
   "cell_type": "code",
   "execution_count": 15,
   "id": "1b4c5679",
   "metadata": {},
   "outputs": [
    {
     "data": {
      "text/plain": [
       "[200, 300, 400, 500]"
      ]
     },
     "execution_count": 15,
     "metadata": {},
     "output_type": "execute_result"
    }
   ],
   "source": [
    "x[1:] #bila no value on the second part dia ambil all range starting from 1 since we use x[1]"
   ]
  },
  {
   "cell_type": "code",
   "execution_count": 16,
   "id": "7752edb3",
   "metadata": {},
   "outputs": [],
   "source": [
    "x= [100,200,300,400,500,600,700,800,900,1000,2000,3000,4000,5000]"
   ]
  },
  {
   "cell_type": "code",
   "execution_count": 17,
   "id": "19369e81",
   "metadata": {},
   "outputs": [
    {
     "data": {
      "text/plain": [
       "[100, 200, 300, 400, 500, 600, 700, 800, 900, 1000, 2000, 3000, 4000]"
      ]
     },
     "execution_count": 17,
     "metadata": {},
     "output_type": "execute_result"
    }
   ],
   "source": [
    "x[:-1] #-ve index guna dia bila nak slice string data panjang dan susah nak kira T dia berapa then use -ve indexing"
   ]
  },
  {
   "cell_type": "code",
   "execution_count": null,
   "id": "7a65a4f6",
   "metadata": {},
   "outputs": [],
   "source": [
    "Structure Tuple"
   ]
  },
  {
   "cell_type": "code",
   "execution_count": 23,
   "id": "312c9eb7",
   "metadata": {},
   "outputs": [],
   "source": [
    "y = (100,200,300,400,500) #tanpa () pon kira data tuple, cantik kalau pakai ()"
   ]
  },
  {
   "cell_type": "code",
   "execution_count": 22,
   "id": "5e260704",
   "metadata": {},
   "outputs": [
    {
     "data": {
      "text/plain": [
       "tuple"
      ]
     },
     "execution_count": 22,
     "metadata": {},
     "output_type": "execute_result"
    }
   ],
   "source": [
    "type(y)"
   ]
  },
  {
   "cell_type": "code",
   "execution_count": 25,
   "id": "629223e4",
   "metadata": {},
   "outputs": [
    {
     "data": {
      "text/plain": [
       "200"
      ]
     },
     "execution_count": 25,
     "metadata": {},
     "output_type": "execute_result"
    }
   ],
   "source": [
    "y[1] #assessing an element for data structure must use square bracket []"
   ]
  },
  {
   "cell_type": "code",
   "execution_count": 26,
   "id": "aa160cd8",
   "metadata": {},
   "outputs": [
    {
     "data": {
      "text/plain": [
       "(200, 300, 400)"
      ]
     },
     "execution_count": 26,
     "metadata": {},
     "output_type": "execute_result"
    }
   ],
   "source": [
    "y[1:-1] #slicing pon sama cara macam list"
   ]
  },
  {
   "cell_type": "code",
   "execution_count": 28,
   "id": "cf309429",
   "metadata": {},
   "outputs": [
    {
     "ename": "AttributeError",
     "evalue": "'tuple' object has no attribute 'remove'",
     "output_type": "error",
     "traceback": [
      "\u001b[1;31m---------------------------------------------------------------------------\u001b[0m",
      "\u001b[1;31mAttributeError\u001b[0m                            Traceback (most recent call last)",
      "Cell \u001b[1;32mIn[28], line 1\u001b[0m\n\u001b[1;32m----> 1\u001b[0m \u001b[43my\u001b[49m\u001b[38;5;241;43m.\u001b[39;49m\u001b[43mremove\u001b[49m(\u001b[38;5;241m200\u001b[39m)\n",
      "\u001b[1;31mAttributeError\u001b[0m: 'tuple' object has no attribute 'remove'"
     ]
    }
   ],
   "source": [
    "y.remove(200) #immutable maksud data tetap, xleh berubah. bila run remove dia akan jadi error"
   ]
  },
  {
   "cell_type": "code",
   "execution_count": 29,
   "id": "f2aa7f59",
   "metadata": {},
   "outputs": [],
   "source": [
    "#Structure Dictionary"
   ]
  },
  {
   "cell_type": "code",
   "execution_count": 30,
   "id": "36205fac",
   "metadata": {},
   "outputs": [],
   "source": [
    "a = {'item':'book','price':100,'status':'sold'}"
   ]
  },
  {
   "cell_type": "code",
   "execution_count": 31,
   "id": "3e4a1df1",
   "metadata": {},
   "outputs": [
    {
     "data": {
      "text/plain": [
       "dict"
      ]
     },
     "execution_count": 31,
     "metadata": {},
     "output_type": "execute_result"
    }
   ],
   "source": [
    "type(a)"
   ]
  },
  {
   "cell_type": "code",
   "execution_count": 32,
   "id": "3b49c101",
   "metadata": {},
   "outputs": [
    {
     "data": {
      "text/plain": [
       "'book'"
      ]
     },
     "execution_count": 32,
     "metadata": {},
     "output_type": "execute_result"
    }
   ],
   "source": [
    "a[\"item\"]"
   ]
  },
  {
   "cell_type": "code",
   "execution_count": 33,
   "id": "01ddfbc0",
   "metadata": {},
   "outputs": [
    {
     "data": {
      "text/plain": [
       "100"
      ]
     },
     "execution_count": 33,
     "metadata": {},
     "output_type": "execute_result"
    }
   ],
   "source": [
    "a['price']"
   ]
  },
  {
   "cell_type": "code",
   "execution_count": 34,
   "id": "dfac1df7",
   "metadata": {},
   "outputs": [
    {
     "data": {
      "text/plain": [
       "{'item': 'book', 'price': 100, 'status': 'sold'}"
      ]
     },
     "execution_count": 34,
     "metadata": {},
     "output_type": "execute_result"
    }
   ],
   "source": [
    "a"
   ]
  },
  {
   "cell_type": "code",
   "execution_count": 35,
   "id": "3042dda3",
   "metadata": {},
   "outputs": [],
   "source": [
    "a['buyer'] = 'Mike Tyson'"
   ]
  },
  {
   "cell_type": "code",
   "execution_count": 36,
   "id": "13b09919",
   "metadata": {},
   "outputs": [
    {
     "data": {
      "text/plain": [
       "{'item': 'book', 'price': 100, 'status': 'sold', 'buyer': 'Mike Tyson'}"
      ]
     },
     "execution_count": 36,
     "metadata": {},
     "output_type": "execute_result"
    }
   ],
   "source": [
    "a"
   ]
  },
  {
   "cell_type": "code",
   "execution_count": 38,
   "id": "acf67507",
   "metadata": {},
   "outputs": [],
   "source": [
    "#dictionary aceess to data using key not index value"
   ]
  },
  {
   "cell_type": "code",
   "execution_count": null,
   "id": "7185649d",
   "metadata": {},
   "outputs": [],
   "source": []
  },
  {
   "cell_type": "code",
   "execution_count": null,
   "id": "51de5643",
   "metadata": {},
   "outputs": [],
   "source": []
  },
  {
   "cell_type": "code",
   "execution_count": null,
   "id": "2fee3a67",
   "metadata": {},
   "outputs": [],
   "source": []
  },
  {
   "cell_type": "code",
   "execution_count": null,
   "id": "264db0f0",
   "metadata": {},
   "outputs": [],
   "source": []
  },
  {
   "cell_type": "code",
   "execution_count": null,
   "id": "7c1938a6",
   "metadata": {},
   "outputs": [],
   "source": []
  },
  {
   "cell_type": "code",
   "execution_count": null,
   "id": "1ef6d1d7",
   "metadata": {},
   "outputs": [],
   "source": []
  },
  {
   "cell_type": "code",
   "execution_count": null,
   "id": "36361b3e",
   "metadata": {},
   "outputs": [],
   "source": []
  },
  {
   "cell_type": "code",
   "execution_count": null,
   "id": "4eecb1b1",
   "metadata": {},
   "outputs": [],
   "source": []
  }
 ],
 "metadata": {
  "kernelspec": {
   "display_name": "Python 3 (ipykernel)",
   "language": "python",
   "name": "python3"
  },
  "language_info": {
   "codemirror_mode": {
    "name": "ipython",
    "version": 3
   },
   "file_extension": ".py",
   "mimetype": "text/x-python",
   "name": "python",
   "nbconvert_exporter": "python",
   "pygments_lexer": "ipython3",
   "version": "3.10.9"
  }
 },
 "nbformat": 4,
 "nbformat_minor": 5
}
