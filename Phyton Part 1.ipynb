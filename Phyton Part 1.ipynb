{
 "cells": [
  {
   "cell_type": "markdown",
   "id": "2255af1c",
   "metadata": {},
   "source": [
    "# Module 2 Part 1"
   ]
  },
  {
   "cell_type": "markdown",
   "id": "fcb75e46",
   "metadata": {},
   "source": [
    "x = 12 #Shift+Enter to run\n",
    "       #Press B for add new cell below\n",
    "       #Press D twice for delete cell\n",
    "       #Press A for add new cell above\n",
    "    "
   ]
  },
  {
   "cell_type": "code",
   "execution_count": null,
   "id": "ccc8a999",
   "metadata": {
    "scrolled": true
   },
   "outputs": [],
   "source": [
    "print(\"Please Input Your Width and Height To Calculate Area\")\n",
    "\n",
    "Width = float(input(\"Enter Width: \"))\n",
    "Height = float(input(\"Enter Height: \"))\n",
    "\n",
    "Area = Width*Height\n",
    "\n",
    "Area = round(Area,2)\n",
    "\n",
    "print(\"The rectangle's area of {} x {} is {}\".format(Width,Height,Area))"
   ]
  },
  {
   "cell_type": "code",
   "execution_count": null,
   "id": "9c0c617a",
   "metadata": {},
   "outputs": [],
   "source": [
    "print(\"Please Input Your Width and Height To Calculate Area\")\n",
    "\n",
    "Width = float(input(\"Enter Width: \"))\n",
    "Height = float(input(\"Enter Height: \"))\n",
    "\n",
    "Area = round(Width*Height,2)\n",
    "\n",
    "print(\"The rectangle's area of {} x {} is {}\".format(Width,Height,Area))"
   ]
  },
  {
   "cell_type": "code",
   "execution_count": null,
   "id": "048683c3",
   "metadata": {},
   "outputs": [],
   "source": [
    "a = 10\n",
    "b = 11\n",
    "\n",
    "c = a + b\n",
    "\n",
    "c"
   ]
  },
  {
   "cell_type": "code",
   "execution_count": null,
   "id": "f5b9556f",
   "metadata": {},
   "outputs": [],
   "source": [
    "#getting true for 2 expression\n",
    "\n",
    "x = 10\n",
    "y = 11\n",
    "\n",
    "y>x and y<20"
   ]
  },
  {
   "cell_type": "code",
   "execution_count": null,
   "id": "b80b7253",
   "metadata": {},
   "outputs": [],
   "source": [
    "1+2*8/9 #Katak bawah daun cuma tidur masih applicable"
   ]
  },
  {
   "cell_type": "code",
   "execution_count": null,
   "id": "673ef8fb",
   "metadata": {},
   "outputs": [],
   "source": []
  },
  {
   "cell_type": "code",
   "execution_count": null,
   "id": "6e34341d",
   "metadata": {},
   "outputs": [],
   "source": [
    "number = int(input(\"Please Enter The Magic Number: \"))\n",
    "\n",
    "if number>=0:\n",
    "    print(\"{} is a POSITIVE Number\".format(number))\n",
    "    \n",
    "else: \n",
    "    print(\"{} is a NEGATIVE Number\".format(number)) \n",
    "\n",
    "print(\"{} is an INTEGER Number\".format(number))"
   ]
  },
  {
   "cell_type": "code",
   "execution_count": null,
   "id": "bd3917c3",
   "metadata": {},
   "outputs": [],
   "source": []
  },
  {
   "cell_type": "code",
   "execution_count": null,
   "id": "3716d9d6",
   "metadata": {},
   "outputs": [],
   "source": [
    "number = int(input(\"Please Enter The Magic Number: \"))\n",
    "\n",
    "if number%2==0:\n",
    "    print(\"{} is an Even Number\".format(number))\n",
    "    \n",
    "else: \n",
    "    print(\"{} is an Odd Number\".format(number)) \n",
    "\n",
    "print(\"{} is an INTEGER Number\".format(number))"
   ]
  },
  {
   "cell_type": "code",
   "execution_count": null,
   "id": "7a0fc53b",
   "metadata": {},
   "outputs": [],
   "source": []
  },
  {
   "cell_type": "code",
   "execution_count": null,
   "id": "ea00eefb",
   "metadata": {},
   "outputs": [],
   "source": [
    "Marks = float(input(\"Please Enter Mark: \"))\n",
    "\n",
    "if Marks>=80 and Marks<=100:\n",
    "    print(\"{} = Grade A\".format(Marks))\n",
    "    \n",
    "elif Marks>=60 and Marks<80:\n",
    "    print(\"{} = Grade B\".format(Marks))\n",
    "    \n",
    "elif Marks>=0 and Marks<60:\n",
    "    print(\"{} = Grade C\".format(Marks))\n",
    "\n",
    "while Marks<0 and Marks>100:\n",
    "    print(float(input(\"Please Re-Enter Valid Marks\")))    \n",
    "\n",
    "else:\n",
    "    print(\"{} = is INVALID Marks\".format(Marks))\n",
    "    \n"
   ]
  },
  {
   "cell_type": "code",
   "execution_count": null,
   "id": "8d2b87d2",
   "metadata": {},
   "outputs": [],
   "source": []
  },
  {
   "cell_type": "code",
   "execution_count": null,
   "id": "77dec4ac",
   "metadata": {},
   "outputs": [],
   "source": [
    "while True:\n",
    "    Marks = float(input(\"Please Enter Mark: \"))\n",
    "\n",
    "    if Marks >= 80 and Marks <= 100:\n",
    "        print(\"{} = Grade A\".format(Marks))\n",
    "        break\n",
    "\n",
    "    elif Marks >= 60 and Marks < 80:\n",
    "        print(\"{} = Grade B\".format(Marks))\n",
    "        break\n",
    "\n",
    "    elif Marks >= 0 and Marks < 60:\n",
    "        print(\"{} = Grade C\".format(Marks))\n",
    "        break\n",
    "\n",
    "    else:\n",
    "        print(\"Invalid Marks. Please enter a value between 0 and 100.\")"
   ]
  },
  {
   "cell_type": "code",
   "execution_count": null,
   "id": "fac4bb46",
   "metadata": {},
   "outputs": [],
   "source": [
    "for i in range (1,11):\n",
    "        square = i ** 2\n",
    "        print (f\"The square of {1} is: {square}\")\n"
   ]
  },
  {
   "cell_type": "code",
   "execution_count": null,
   "id": "5f2a46a8",
   "metadata": {},
   "outputs": [],
   "source": [
    "for i in range (1,11,1):\n",
    "    j = pow(i,3)\n",
    "    print(\"{0} x {0} = {1}\".format(i,j))"
   ]
  },
  {
   "cell_type": "code",
   "execution_count": null,
   "id": "e6a76e7b",
   "metadata": {},
   "outputs": [],
   "source": [
    "def hypotenuse (height,base):\n",
    "    h = pow((pow(height,2)+pow(base,2)),0.5)\n",
    "    h = round(h,2)\n",
    "    \n",
    "    return h"
   ]
  },
  {
   "cell_type": "code",
   "execution_count": null,
   "id": "10c9388a",
   "metadata": {},
   "outputs": [],
   "source": [
    "hypotenuse(10,10)"
   ]
  },
  {
   "cell_type": "code",
   "execution_count": null,
   "id": "552a08b7",
   "metadata": {},
   "outputs": [],
   "source": [
    "def hypotenuse(height, base):\n",
    "    h = pow((pow(height,2)+pow(base,2)),0.5)\n",
    "    h = round(h, 2)\n",
    "    return h\n",
    "\n",
    "print(\"Welcome to the Hypotenuse Calculator!\")\n",
    "print(\"Please enter the height and base of the right triangle:\")\n",
    "\n",
    "while True:\n",
    "    try:\n",
    "        height = float(input(\"Height: \"))\n",
    "        base = float(input(\"Base: \"))\n",
    "        break\n",
    "    except ValueError:\n",
    "        print(\"Invalid input. Please enter numeric values.\")\n",
    "\n",
    "hypotenuse_value = hypotenuse(height, base)\n",
    "print(\"The hypotenuse of the right triangle is:\", hypotenuse_value)"
   ]
  },
  {
   "cell_type": "code",
   "execution_count": null,
   "id": "0091fb06",
   "metadata": {},
   "outputs": [],
   "source": [
    "from math import sqrt\n",
    "\n",
    "def hypotenuse(height, base):\n",
    "    h = sqrt(height ** 2 + base ** 2)\n",
    "    h = round(h, 2)\n",
    "    return h\n",
    "\n",
    "print(\"Welcome to the Hypotenuse Calculator!\")\n",
    "print(\"Please enter the height and base of the right triangle:\")\n",
    "\n",
    "while True:\n",
    "    try:\n",
    "        height = float(input(\"Height: \"))\n",
    "        base = float(input(\"Base: \"))\n",
    "        break\n",
    "    except ValueError:\n",
    "        print(\"Invalid input. Please enter numeric values.\")\n",
    "\n",
    "hypotenuse_value = hypotenuse(height, base)\n",
    "print(\"The hypotenuse of the right triangle is:\", hypotenuse_value)"
   ]
  },
  {
   "cell_type": "code",
   "execution_count": null,
   "id": "819fc362",
   "metadata": {},
   "outputs": [],
   "source": [
    "import math\n",
    "\n",
    "def hypotenuse(height, base):\n",
    "    h = math.sqrt(height ** 2 + base ** 2)\n",
    "    h = round(h, 2)\n",
    "    return h\n",
    "\n",
    "print(\"Welcome to the Hypotenuse Calculator!\")\n",
    "print(\"Please enter the height and base of the right triangle:\")\n",
    "\n",
    "while True:\n",
    "    try:\n",
    "        height = float(input(\"Height: \"))\n",
    "        base = float(input(\"Base: \"))\n",
    "        break\n",
    "    except ValueError:\n",
    "        print(\"Invalid input. Please enter numeric values.\")\n",
    "\n",
    "hypotenuse_value = hypotenuse(height, base)\n",
    "print(\"The hypotenuse of the right triangle is:\", hypotenuse_value)"
   ]
  },
  {
   "cell_type": "code",
   "execution_count": null,
   "id": "af4804b5",
   "metadata": {},
   "outputs": [],
   "source": [
    "import math\n",
    "\n",
    "a = 10\n",
    "b = 11\n",
    "c = 30\n",
    "\n",
    "x = math.sqrt(a) + b\n",
    "\n",
    "print (x)"
   ]
  },
  {
   "cell_type": "code",
   "execution_count": null,
   "id": "66b9b6ad",
   "metadata": {},
   "outputs": [],
   "source": [
    "import math as m\n",
    "\n",
    "a = 10\n",
    "b = 11\n",
    "c = 30\n",
    "\n",
    "x = (m.pi*pow(a,2))/4\n",
    "\n",
    "print(x)"
   ]
  },
  {
   "cell_type": "code",
   "execution_count": 3,
   "id": "cc54ff49",
   "metadata": {},
   "outputs": [
    {
     "name": "stdout",
     "output_type": "stream",
     "text": [
      "5.773502691896257\n"
     ]
    }
   ],
   "source": [
    "import math\n",
    "\n",
    "a = 10\n",
    "b = 11\n",
    "c = 30\n",
    "\n",
    "c = math.radians(c)\n",
    "\n",
    "x = a*math.tan(c)\n",
    "\n",
    "print(x)\n",
    "\n"
   ]
  },
  {
   "cell_type": "code",
   "execution_count": null,
   "id": "2a9433cc",
   "metadata": {},
   "outputs": [],
   "source": []
  },
  {
   "cell_type": "code",
   "execution_count": null,
   "id": "22107119",
   "metadata": {},
   "outputs": [],
   "source": []
  },
  {
   "cell_type": "code",
   "execution_count": null,
   "id": "cacf7425",
   "metadata": {},
   "outputs": [],
   "source": []
  },
  {
   "cell_type": "code",
   "execution_count": null,
   "id": "23a2b1ba",
   "metadata": {},
   "outputs": [],
   "source": []
  },
  {
   "cell_type": "code",
   "execution_count": null,
   "id": "f494b5fd",
   "metadata": {},
   "outputs": [],
   "source": []
  },
  {
   "cell_type": "code",
   "execution_count": null,
   "id": "c6e94513",
   "metadata": {},
   "outputs": [],
   "source": []
  },
  {
   "cell_type": "code",
   "execution_count": null,
   "id": "21838d22",
   "metadata": {},
   "outputs": [],
   "source": []
  }
 ],
 "metadata": {
  "kernelspec": {
   "display_name": "Python 3 (ipykernel)",
   "language": "python",
   "name": "python3"
  },
  "language_info": {
   "codemirror_mode": {
    "name": "ipython",
    "version": 3
   },
   "file_extension": ".py",
   "mimetype": "text/x-python",
   "name": "python",
   "nbconvert_exporter": "python",
   "pygments_lexer": "ipython3",
   "version": "3.10.9"
  }
 },
 "nbformat": 4,
 "nbformat_minor": 5
}
