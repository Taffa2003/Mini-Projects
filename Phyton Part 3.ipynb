{
 "cells": [
  {
   "cell_type": "markdown",
   "id": "7213c81b",
   "metadata": {},
   "source": [
    "# Part 3 Third Party Packages"
   ]
  },
  {
   "cell_type": "code",
   "execution_count": null,
   "id": "f6da874e",
   "metadata": {},
   "outputs": [],
   "source": [
    "x = [10,20,30]"
   ]
  },
  {
   "cell_type": "code",
   "execution_count": null,
   "id": "be93feae",
   "metadata": {},
   "outputs": [],
   "source": [
    "x*2"
   ]
  },
  {
   "cell_type": "code",
   "execution_count": null,
   "id": "0f159d8d",
   "metadata": {},
   "outputs": [],
   "source": [
    "import numpy as np"
   ]
  },
  {
   "cell_type": "code",
   "execution_count": null,
   "id": "47de2b16",
   "metadata": {},
   "outputs": [],
   "source": [
    "pip install numpy"
   ]
  },
  {
   "cell_type": "code",
   "execution_count": null,
   "id": "3efb0fd0",
   "metadata": {},
   "outputs": [],
   "source": [
    "import numpy as np"
   ]
  },
  {
   "cell_type": "code",
   "execution_count": null,
   "id": "9e7b20af",
   "metadata": {},
   "outputs": [],
   "source": [
    "conda list"
   ]
  },
  {
   "cell_type": "code",
   "execution_count": null,
   "id": "246fc430",
   "metadata": {},
   "outputs": [],
   "source": [
    "a = np.array([10,20,30])"
   ]
  },
  {
   "cell_type": "code",
   "execution_count": null,
   "id": "b8bfd38b",
   "metadata": {},
   "outputs": [],
   "source": [
    "type(a)"
   ]
  },
  {
   "cell_type": "code",
   "execution_count": null,
   "id": "01409ef5",
   "metadata": {},
   "outputs": [],
   "source": [
    "a.shape"
   ]
  },
  {
   "cell_type": "code",
   "execution_count": null,
   "id": "c11d8d63",
   "metadata": {},
   "outputs": [],
   "source": [
    "a.ndim"
   ]
  },
  {
   "cell_type": "code",
   "execution_count": null,
   "id": "7f3c7027",
   "metadata": {},
   "outputs": [],
   "source": [
    "a.size"
   ]
  },
  {
   "cell_type": "code",
   "execution_count": null,
   "id": "e8a1c7b1",
   "metadata": {},
   "outputs": [],
   "source": [
    "#question how to multiply the value in the array"
   ]
  },
  {
   "cell_type": "code",
   "execution_count": null,
   "id": "3847c3f9",
   "metadata": {},
   "outputs": [],
   "source": [
    "a*2"
   ]
  },
  {
   "cell_type": "code",
   "execution_count": null,
   "id": "92036b98",
   "metadata": {},
   "outputs": [],
   "source": [
    "## 1 dimensional"
   ]
  },
  {
   "cell_type": "code",
   "execution_count": null,
   "id": "965b0811",
   "metadata": {},
   "outputs": [],
   "source": [
    "a"
   ]
  },
  {
   "cell_type": "code",
   "execution_count": null,
   "id": "6fd5754b",
   "metadata": {},
   "outputs": [],
   "source": [
    "b = np.array([[100,200,300],[400,500,600]]) #list in a list baru dapat 2 matrix"
   ]
  },
  {
   "cell_type": "code",
   "execution_count": null,
   "id": "f37f8fb9",
   "metadata": {},
   "outputs": [],
   "source": [
    "b"
   ]
  },
  {
   "cell_type": "code",
   "execution_count": null,
   "id": "5fd90270",
   "metadata": {},
   "outputs": [],
   "source": [
    "b.shape"
   ]
  },
  {
   "cell_type": "code",
   "execution_count": null,
   "id": "bb939e5e",
   "metadata": {},
   "outputs": [],
   "source": [
    "b[0,1]"
   ]
  },
  {
   "cell_type": "code",
   "execution_count": null,
   "id": "5f276782",
   "metadata": {},
   "outputs": [],
   "source": [
    "b[-1,-2]"
   ]
  },
  {
   "cell_type": "code",
   "execution_count": null,
   "id": "dfd70999",
   "metadata": {},
   "outputs": [],
   "source": [
    "b[0:1,1:1]"
   ]
  },
  {
   "cell_type": "code",
   "execution_count": null,
   "id": "6e38a4ec",
   "metadata": {},
   "outputs": [],
   "source": [
    "b"
   ]
  },
  {
   "cell_type": "code",
   "execution_count": null,
   "id": "9d0b0031",
   "metadata": {},
   "outputs": [],
   "source": [
    "b[0:2,0:2]"
   ]
  },
  {
   "cell_type": "code",
   "execution_count": null,
   "id": "eb265775",
   "metadata": {},
   "outputs": [],
   "source": [
    "b[:,:-1]"
   ]
  },
  {
   "cell_type": "code",
   "execution_count": null,
   "id": "640c30c0",
   "metadata": {},
   "outputs": [],
   "source": [
    "b[1,1:]"
   ]
  },
  {
   "cell_type": "code",
   "execution_count": null,
   "id": "26942b69",
   "metadata": {},
   "outputs": [],
   "source": [
    "i = [10,20,30]\n",
    "j = [40,50,60]\n",
    "k = [70,80,90]\n",
    "\n",
    "y1 = np.array([[i],[j],[k]]) #or y = np.array([i,j,k])\n",
    "y2 = np.array([[i],[j],[k]]) #or y = np.array([i,j,k])"
   ]
  },
  {
   "cell_type": "code",
   "execution_count": null,
   "id": "805499b0",
   "metadata": {},
   "outputs": [],
   "source": [
    "y1+y2"
   ]
  },
  {
   "cell_type": "code",
   "execution_count": null,
   "id": "3d6b3782",
   "metadata": {},
   "outputs": [],
   "source": [
    "import numpy as np\n",
    "\n",
    "i = [10,20,30]\n",
    "j = [40,50,60]\n",
    "k = [70,80,90]\n",
    "\n",
    "y1 = np.array([i,j,k])\n",
    "y2 = np.array([i,j,k])\n",
    "\n",
    "z = np.add(y1,y2)\n",
    "\n",
    "print(z)"
   ]
  },
  {
   "cell_type": "code",
   "execution_count": null,
   "id": "7c0744e0",
   "metadata": {},
   "outputs": [],
   "source": [
    "np.prod(y1)"
   ]
  },
  {
   "cell_type": "code",
   "execution_count": null,
   "id": "6fde1df6",
   "metadata": {},
   "outputs": [],
   "source": [
    "y1*y2"
   ]
  },
  {
   "cell_type": "code",
   "execution_count": null,
   "id": "dd31d63c",
   "metadata": {},
   "outputs": [],
   "source": [
    "np.dot(y1,y2)"
   ]
  },
  {
   "cell_type": "markdown",
   "id": "3a686a97",
   "metadata": {},
   "source": [
    "# Panda"
   ]
  },
  {
   "cell_type": "code",
   "execution_count": null,
   "id": "a72f7253",
   "metadata": {},
   "outputs": [],
   "source": [
    "pip install pandas"
   ]
  },
  {
   "cell_type": "code",
   "execution_count": null,
   "id": "692d5728",
   "metadata": {},
   "outputs": [],
   "source": [
    "import pandas as pd"
   ]
  },
  {
   "cell_type": "code",
   "execution_count": null,
   "id": "8866a4ee",
   "metadata": {},
   "outputs": [],
   "source": [
    "a = pd.Series([10,20,30,40,50])"
   ]
  },
  {
   "cell_type": "code",
   "execution_count": null,
   "id": "bf07443c",
   "metadata": {},
   "outputs": [],
   "source": [
    "type(a)"
   ]
  },
  {
   "cell_type": "code",
   "execution_count": null,
   "id": "bd508090",
   "metadata": {},
   "outputs": [],
   "source": [
    "a"
   ]
  },
  {
   "cell_type": "code",
   "execution_count": null,
   "id": "fdbf8628",
   "metadata": {},
   "outputs": [],
   "source": [
    "a[1]"
   ]
  },
  {
   "cell_type": "code",
   "execution_count": null,
   "id": "61639939",
   "metadata": {},
   "outputs": [],
   "source": [
    "a[1:4]"
   ]
  },
  {
   "cell_type": "code",
   "execution_count": null,
   "id": "fc85e595",
   "metadata": {},
   "outputs": [],
   "source": [
    "b = pd.Series([10,20,30,40,50],\n",
    "              index=['a','b','c','d','e'])"
   ]
  },
  {
   "cell_type": "code",
   "execution_count": null,
   "id": "b9a920a3",
   "metadata": {},
   "outputs": [],
   "source": [
    "b"
   ]
  },
  {
   "cell_type": "code",
   "execution_count": null,
   "id": "ef1d8fb8",
   "metadata": {},
   "outputs": [],
   "source": [
    "b['c']"
   ]
  },
  {
   "cell_type": "code",
   "execution_count": null,
   "id": "25dd3ebb",
   "metadata": {},
   "outputs": [],
   "source": [
    "b['b':'d']"
   ]
  },
  {
   "cell_type": "code",
   "execution_count": null,
   "id": "92cab9b4",
   "metadata": {},
   "outputs": [],
   "source": [
    "b.loc['b':'e']"
   ]
  },
  {
   "cell_type": "code",
   "execution_count": null,
   "id": "99850633",
   "metadata": {},
   "outputs": [],
   "source": [
    "b.iloc[1:4]"
   ]
  },
  {
   "cell_type": "code",
   "execution_count": null,
   "id": "667b703f",
   "metadata": {},
   "outputs": [],
   "source": [
    "list_1 = [10,20,30,40,50]\n",
    "list_2 = [100,200,300,400,500]\n",
    "list_3 = [1000,2000,3000,4000,5000]\n",
    "\n",
    "df = pd.DataFrame(list_1,columns=['Data 1'])"
   ]
  },
  {
   "cell_type": "code",
   "execution_count": null,
   "id": "54736055",
   "metadata": {},
   "outputs": [],
   "source": [
    "df"
   ]
  },
  {
   "cell_type": "code",
   "execution_count": null,
   "id": "aa336658",
   "metadata": {},
   "outputs": [],
   "source": [
    "list_1 = [10,20,30,40,50]\n",
    "list_2 = [100,200,300,400,500]\n",
    "list_3 = [1000,2000,3000,4000,5000]\n",
    "\n",
    "df = pd.DataFrame({'Data 1':list_1,'Data 2':list_2,'Data 3':list_3})"
   ]
  },
  {
   "cell_type": "code",
   "execution_count": null,
   "id": "91f9c91d",
   "metadata": {},
   "outputs": [],
   "source": [
    "df"
   ]
  },
  {
   "cell_type": "code",
   "execution_count": null,
   "id": "cdfcdbea",
   "metadata": {},
   "outputs": [],
   "source": [
    "df['Data 2'] #data assess can only use the column cannot slice the data using coordinate"
   ]
  },
  {
   "cell_type": "code",
   "execution_count": null,
   "id": "9ef93144",
   "metadata": {},
   "outputs": [],
   "source": [
    "df.iloc[0] #use iloc to asses by row"
   ]
  },
  {
   "cell_type": "code",
   "execution_count": null,
   "id": "dfec8bed",
   "metadata": {},
   "outputs": [],
   "source": [
    "x = df['Data 1'] + df['Data 2']\n",
    "\n",
    "x"
   ]
  },
  {
   "cell_type": "code",
   "execution_count": null,
   "id": "914859cb",
   "metadata": {},
   "outputs": [],
   "source": [
    "df['Data 1 + Data 2'] = x #creation of new column\n",
    "\n",
    "df"
   ]
  },
  {
   "cell_type": "code",
   "execution_count": null,
   "id": "1508d0ef",
   "metadata": {
    "scrolled": false
   },
   "outputs": [],
   "source": [
    "import pandas as pd\n",
    "\n",
    "df = pd.read_csv('carData.csv')"
   ]
  },
  {
   "cell_type": "code",
   "execution_count": null,
   "id": "a001eb18",
   "metadata": {},
   "outputs": [],
   "source": [
    "df"
   ]
  },
  {
   "cell_type": "code",
   "execution_count": null,
   "id": "e2931b9a",
   "metadata": {},
   "outputs": [],
   "source": [
    "df = pd.read_excel('car_sold.xlsx')"
   ]
  },
  {
   "cell_type": "code",
   "execution_count": null,
   "id": "988bcff0",
   "metadata": {},
   "outputs": [],
   "source": [
    "pip install pandas openpyxl"
   ]
  },
  {
   "cell_type": "code",
   "execution_count": null,
   "id": "b5c4536a",
   "metadata": {},
   "outputs": [],
   "source": [
    "import pandas as pd\n",
    "\n",
    "df = pd.read_excel('car_sold.xlsx')"
   ]
  },
  {
   "cell_type": "code",
   "execution_count": null,
   "id": "81581841",
   "metadata": {},
   "outputs": [],
   "source": [
    "df"
   ]
  },
  {
   "cell_type": "code",
   "execution_count": null,
   "id": "49242d86",
   "metadata": {
    "scrolled": true
   },
   "outputs": [],
   "source": [
    "df_alfa = df[df['Brand']=='Alfa']\n",
    "\n",
    "df_alfa"
   ]
  },
  {
   "cell_type": "markdown",
   "id": "f3f87433",
   "metadata": {},
   "source": [
    "# Matplotlib"
   ]
  },
  {
   "cell_type": "code",
   "execution_count": null,
   "id": "e90c0263",
   "metadata": {},
   "outputs": [],
   "source": [
    "pip install matplotlib"
   ]
  },
  {
   "cell_type": "code",
   "execution_count": 1,
   "id": "19bb1a39",
   "metadata": {},
   "outputs": [],
   "source": [
    "import matplotlib.pyplot as plt"
   ]
  },
  {
   "cell_type": "code",
   "execution_count": 2,
   "id": "6bb12c74",
   "metadata": {},
   "outputs": [],
   "source": [
    "#create data point\n",
    "\n",
    "i = [10,20,30,40,50]\n",
    "j = [100,200,300,400,500]"
   ]
  },
  {
   "cell_type": "code",
   "execution_count": 6,
   "id": "486ab72e",
   "metadata": {},
   "outputs": [
    {
     "data": {
      "image/png": "[encoded data removed]",
      "text/plain": [
       "<Figure size 640x480 with 1 Axes>"
      ]
     },
     "metadata": {},
     "output_type": "display_data"
    }
   ],
   "source": [
    "#plot line chart\n",
    "\n",
    "plt.plot(i,j)\n",
    "\n",
    "#add title and axis label\n",
    "\n",
    "plt.title(\"j versus i\")\n",
    "plt.xlabel(\"i-axis\")\n",
    "plt.ylabel(\"j-axis\")\n",
    "\n",
    "plt.show()"
   ]
  },
  {
   "cell_type": "code",
   "execution_count": 12,
   "id": "8f2b021e",
   "metadata": {},
   "outputs": [
    {
     "data": {
      "image/png": "[encoded data removed]",
      "text/plain": [
       "<Figure size 640x480 with 1 Axes>"
      ]
     },
     "metadata": {},
     "output_type": "display_data"
    }
   ],
   "source": [
    "#create data point\n",
    "i = [10,20,30,40]\n",
    "j = [10,15,27,70]\n",
    "\n",
    "#plot scatter plot\n",
    "plt.scatter(i,j)\n",
    "\n",
    "#add title and axis label\n",
    "plt.title(\"j versus i\")\n",
    "plt.xlabel(\"i-axis\")\n",
    "plt.ylabel(\"j-axis\")\n",
    "\n",
    "#plot line in the chart\n",
    "plt.plot(i, j, color='red', linestyle='--', label='Line')\n",
    "\n",
    "#show the chart\n",
    "plt.show()"
   ]
  },
  {
   "cell_type": "code",
   "execution_count": 32,
   "id": "e8f6d11d",
   "metadata": {},
   "outputs": [
    {
     "data": {
      "image/png": "[encoded data removed]",
      "text/plain": [
       "<Figure size 640x480 with 1 Axes>"
      ]
     },
     "metadata": {},
     "output_type": "display_data"
    }
   ],
   "source": [
    "#Data Points\n",
    "internet_browsers = ['Safari','Edge','Chrome','Firefox','IE','Opera']\n",
    "market_share = [61.64,11.98,11.02,4.23,3.79,7.34]\n",
    "\n",
    "# Define explode effect to highlight a slice (optional)\n",
    "explode = [0, 0, 0.5, 0.3, 0.2, 0.1]\n",
    "\n",
    "# Plot the pie chart\n",
    "plt.pie(x=market_share, labels=internet_browsers, autopct='%.2f%%', explode=explode, \n",
    "        startangle=90, textprops={'fontsize': 10})\n",
    "\n",
    "# Add title\n",
    "plt.title(\"Internet Browser Market Share\", fontsize=16, fontweight='bold')\n",
    "\n",
    "# Remove the unnecessary y-axis label\n",
    "plt.ylabel('')\n",
    "\n",
    "# Make the pie chart circular by setting the aspect ratio\n",
    "plt.axis('equal')\n",
    "\n",
    "#add legend\n",
    "plt.legend(internet_browsers, loc=2)\n",
    "\n",
    "#add title\n",
    "plt.title(\"Internet Browser Market Share\")\n",
    "\n",
    "#show fig\n",
    "plt.show()"
   ]
  },
  {
   "cell_type": "code",
   "execution_count": 34,
   "id": "4bac7aad",
   "metadata": {},
   "outputs": [
    {
     "data": {
      "image/png": "[encoded data removed]",
      "text/plain": [
       "<Figure size 640x480 with 1 Axes>"
      ]
     },
     "metadata": {},
     "output_type": "display_data"
    }
   ],
   "source": [
    "#Data Points\n",
    "rainfall = [12,9,16,3,21,7,8,4,6,21,4,1]\n",
    "months = ['Jan','Feb','Mar','Apr','May','Jun','Jul','Aug','Sep','Oct','Nov','Dec']\n",
    "\n",
    "plt.bar(months,rainfall,align='center',color='blue')\n",
    "\n",
    "plt.title(\"Rain Precipitation\")\n",
    "plt.xlabel(\"Rainfall\")\n",
    "plt.ylabel(\"Month\")\n",
    "\n",
    "#save fig\n",
    "plt.savefig('chart1.png', bbox_inches='tight')\n",
    "\n",
    "plt.show()"
   ]
  },
  {
   "cell_type": "code",
   "execution_count": 40,
   "id": "ea6f3045",
   "metadata": {},
   "outputs": [
    {
     "data": {
      "image/png": "[encoded data removed]",
      "text/plain": [
       "<Figure size 640x480 with 1 Axes>"
      ]
     },
     "metadata": {},
     "output_type": "display_data"
    }
   ],
   "source": [
    "import numpy as np\n",
    "import pandas as pd\n",
    "import matplotlib.pyplot as plt\n",
    "\n",
    "#read file\n",
    "df = pd.read_csv('carData.csv')\n",
    "\n",
    "#display dataframe\n",
    "df.head()\n",
    "\n",
    "#plot scatter\n",
    "plt.scatter(df['Age'], df['Price'])\n",
    "\n",
    "#title and axis\n",
    "plt.title(\"Price vs Age\")\n",
    "plt.xlabel(\"Age\")\n",
    "plt.ylabel(\"Price\")\n",
    "\n",
    "#save\n",
    "plt.savefig('chart2.png', bbox_inches='tight')\n",
    "\n",
    "plt.show()"
   ]
  },
  {
   "cell_type": "code",
   "execution_count": 41,
   "id": "79b90561",
   "metadata": {},
   "outputs": [],
   "source": [
    "#web scraping guna module beautifulsoup"
   ]
  },
  {
   "cell_type": "code",
   "execution_count": null,
   "id": "49730b8c",
   "metadata": {},
   "outputs": [],
   "source": []
  },
  {
   "cell_type": "code",
   "execution_count": null,
   "id": "ee8c6cf1",
   "metadata": {},
   "outputs": [],
   "source": []
  },
  {
   "cell_type": "code",
   "execution_count": null,
   "id": "0a3765cc",
   "metadata": {},
   "outputs": [],
   "source": []
  },
  {
   "cell_type": "code",
   "execution_count": null,
   "id": "c98ba31b",
   "metadata": {},
   "outputs": [],
   "source": []
  },
  {
   "cell_type": "code",
   "execution_count": null,
   "id": "e08b9c57",
   "metadata": {},
   "outputs": [],
   "source": []
  },
  {
   "cell_type": "code",
   "execution_count": null,
   "id": "d1b33f2d",
   "metadata": {},
   "outputs": [],
   "source": []
  },
  {
   "cell_type": "code",
   "execution_count": null,
   "id": "b359f9a2",
   "metadata": {},
   "outputs": [],
   "source": []
  },
  {
   "cell_type": "code",
   "execution_count": null,
   "id": "2c27736b",
   "metadata": {},
   "outputs": [],
   "source": []
  }
 ],
 "metadata": {
  "kernelspec": {
   "display_name": "Python 3 (ipykernel)",
   "language": "python",
   "name": "python3"
  },
  "language_info": {
   "codemirror_mode": {
    "name": "ipython",
    "version": 3
   },
   "file_extension": ".py",
   "mimetype": "text/x-python",
   "name": "python",
   "nbconvert_exporter": "python",
   "pygments_lexer": "ipython3",
   "version": "3.10.9"
  }
 },
 "nbformat": 4,
 "nbformat_minor": 5
}
